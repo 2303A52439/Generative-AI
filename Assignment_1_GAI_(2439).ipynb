{
  "nbformat": 4,
  "nbformat_minor": 0,
  "metadata": {
    "colab": {
      "provenance": [],
      "authorship_tag": "ABX9TyN83GdZ4LkHN3YR6C1AlgiJ",
      "include_colab_link": true
    },
    "kernelspec": {
      "name": "python3",
      "display_name": "Python 3"
    },
    "language_info": {
      "name": "python"
    }
  },
  "cells": [
    {
      "cell_type": "markdown",
      "metadata": {
        "id": "view-in-github",
        "colab_type": "text"
      },
      "source": [
        "<a href=\"https://colab.research.google.com/github/2303A52439/Generative-AI/blob/main/Assignment_1_GAI_(2439).ipynb\" target=\"_parent\"><img src=\"https://colab.research.google.com/assets/colab-badge.svg\" alt=\"Open In Colab\"/></a>"
      ]
    },
    {
      "cell_type": "markdown",
      "source": [
        "K.Vignanand Rao\n",
        "\n",
        "2303A2439"
      ],
      "metadata": {
        "id": "eh0gjZBs2m3D"
      }
    },
    {
      "cell_type": "markdown",
      "source": [
        "Question 1"
      ],
      "metadata": {
        "id": "n438LqBF63jB"
      }
    },
    {
      "cell_type": "code",
      "execution_count": null,
      "metadata": {
        "colab": {
          "base_uri": "https://localhost:8080/"
        },
        "id": "TkvVVib_2dMz",
        "outputId": "05511833-d452-4a32-b507-01568e0ff2cd"
      },
      "outputs": [
        {
          "output_type": "stream",
          "name": "stdout",
          "text": [
            "Mean Absolute Error :  0.4600000000000016\n",
            "Mean Square Error :  0.24600000000000147\n",
            "Root Mean Square Error :  0.49598387070549127\n"
          ]
        }
      ],
      "source": [
        "import numpy as np\n",
        "Yact = np.array([20,30,40,50,60])\n",
        "Ypre = np.array([20.5,30.3,40.2,50.6,60.7])\n",
        "MAE=0\n",
        "MSE=0\n",
        "for i in range(0,5):\n",
        "    MAE+=abs(Yact[i]-Ypre[i])\n",
        "    MSE+=(Yact[i]-Ypre[i])**2\n",
        "MSE=MSE/5\n",
        "print(\"Mean Absolute Error : \" , MAE/5)\n",
        "print(\"Mean Square Error : \" , MSE)\n",
        "print(\"Root Mean Square Error : \" , (MSE**0.5))"
      ]
    },
    {
      "cell_type": "markdown",
      "source": [
        "Question 2"
      ],
      "metadata": {
        "id": "8Gh9Zg5Pxsch"
      }
    },
    {
      "cell_type": "code",
      "source": [
        " import numpy as np\n",
        " from sklearn.metrics import accuracy_score, precision_score, recall_score, f1_score\n",
        " actual = np.array([\n",
        "    [0, 0, 1, 1, 2, 0],\n",
        "    [0, 0, 1, 0, 2, 0],\n",
        "    [0, 1, 1, 2, 2, 1],\n",
        "    [0, 2, 1, 0, 2, 2],\n",
        "    [0, 2, 1, 2, 2, 2]\n",
        " ])\n",
        " predicted = np.array([\n",
        "    [0, 0, 1, 1, 2, 0],\n",
        "    [0, 0, 1, 0, 2, 0],\n",
        "    [0, 1, 1, 2, 2, 1],\n",
        "    [0, 2, 1, 0, 2, 2],\n",
        "    [0, 2, 1, 2, 2, 2]\n",
        " ])\n",
        " actual_flat = actual.flatten()\n",
        " predicted_flat = predicted.flatten()\n",
        " accuracy_manual = np.sum(actual_flat == predicted_flat) / len(actual_flat)\n",
        " unique_classes = np.unique(actual_flat)\n",
        " precision_manual = []\n",
        " recall_manual = []\n",
        " f1_manual = []\n",
        " for cls in unique_classes:\n",
        "    tp = np.sum((actual_flat == cls) & (predicted_flat == cls))\n",
        "    fp = np.sum((actual_flat != cls) & (predicted_flat == cls))\n",
        "    fn = np.sum((actual_flat == cls) & (predicted_flat != cls))\n",
        "    precision = tp / (tp + fp) if (tp + fp) > 0 else 0\n",
        "    recall = tp / (tp + fn) if (tp + fn) > 0 else 0\n",
        "    f1 = 2 * (precision * recall) / (precision + recall) if (precision\n",
        "+ recall) > 0 else 0\n",
        "    precision_manual.append(precision)\n",
        "    recall_manual.append(recall)\n",
        "    f1_manual.append(f1)\n",
        " accuracy_sklearn = accuracy_score(actual_flat, predicted_flat)\n",
        " precision_sklearn = precision_score(actual_flat, predicted_flat,\n",
        "average=None)\n",
        " recall_sklearn = recall_score(actual_flat, predicted_flat,\n",
        "average=None)\n",
        " f1_sklearn = f1_score(actual_flat, predicted_flat, average=None)\n",
        " print(\"Manual Calculations:\")\n",
        " print(f\"Accuracy: {accuracy_manual}\")\n",
        " print(f\"Precision: {precision_manual}\")\n",
        " print(f\"Recall: {recall_manual}\")\n",
        " print(f\"F1-Score: {f1_manual}\")\n",
        " print(\"\\nUsing sklearn:\")\n",
        " print(f\"Accuracy: {accuracy_sklearn}\")\n",
        " print(f\"Precision: {precision_sklearn}\")\n",
        " print(f\"Recall: {recall_sklearn}\")\n",
        " print(f\"F1-Score: {f1_sklearn}\")\n",
        " if (np.isclose(accuracy_manual, accuracy_sklearn) and\n",
        "    np.allclose(precision_manual, precision_sklearn) and\n",
        "    np.allclose(recall_manual, recall_sklearn) and\n",
        "    np.allclose(f1_manual, f1_sklearn)):\n",
        "    print(\"\\nManual calculations match the library results!\")\n",
        " else:\n",
        "    print(\"\\nThere is a discrepancy between manual calculations and library results.\")"
      ],
      "metadata": {
        "colab": {
          "base_uri": "https://localhost:8080/"
        },
        "id": "LBcGHnbIybMX",
        "outputId": "eeeb49d9-34dd-4983-d3f0-0bbd2ea20cf9"
      },
      "execution_count": 9,
      "outputs": [
        {
          "output_type": "stream",
          "name": "stdout",
          "text": [
            "Manual Calculations:\n",
            "Accuracy: 1.0\n",
            "Precision: [1.0, 1.0, 1.0]\n",
            "Recall: [1.0, 1.0, 1.0]\n",
            "F1-Score: [1.0, 1.0, 1.0]\n",
            "\n",
            "Using sklearn:\n",
            "Accuracy: 1.0\n",
            "Precision: [1. 1. 1.]\n",
            "Recall: [1. 1. 1.]\n",
            "F1-Score: [1. 1. 1.]\n",
            "\n",
            "Manual calculations match the library results!\n"
          ]
        }
      ]
    }
  ]
}