{
  "nbformat": 4,
  "nbformat_minor": 0,
  "metadata": {
    "colab": {
      "provenance": [],
      "authorship_tag": "ABX9TyNHFYZIfBpmw8riH/MWtLyq",
      "include_colab_link": true
    },
    "kernelspec": {
      "name": "python3",
      "display_name": "Python 3"
    },
    "language_info": {
      "name": "python"
    }
  },
  "cells": [
    {
      "cell_type": "markdown",
      "metadata": {
        "id": "view-in-github",
        "colab_type": "text"
      },
      "source": [
        "<a href=\"https://colab.research.google.com/github/2303A52439/Generative-AI/blob/main/Assi_2_GAI_(2439).ipynb\" target=\"_parent\"><img src=\"https://colab.research.google.com/assets/colab-badge.svg\" alt=\"Open In Colab\"/></a>"
      ]
    },
    {
      "cell_type": "markdown",
      "source": [
        "K.Vignanand Rao\n",
        "\n",
        "2303A52439\n",
        "\n",
        "Batch 41"
      ],
      "metadata": {
        "id": "FH9vzgUUz1Zl"
      }
    },
    {
      "cell_type": "markdown",
      "source": [
        "Question 1"
      ],
      "metadata": {
        "id": "oePlsJOZz7Tr"
      }
    },
    {
      "cell_type": "code",
      "execution_count": 1,
      "metadata": {
        "colab": {
          "base_uri": "https://localhost:8080/"
        },
        "id": "s-ubXX08zFRk",
        "outputId": "2fbe47d4-aaee-4829-dfc2-7097576bf223"
      },
      "outputs": [
        {
          "output_type": "stream",
          "name": "stdout",
          "text": [
            "Optimal number of A to produce: 2.00\n",
            "Optimal number of B to produce: 3.00\n",
            "Maximum Profit: 27.00\n"
          ]
        }
      ],
      "source": [
        "from scipy.optimize import linprog\n",
        "c = [-6, -5]\n",
        "A_ub = [\n",
        "    [1, 1],\n",
        "    [3, 2]\n",
        "]\n",
        "b_ub = [5, 12]\n",
        "x_bounds = (0, None)\n",
        "y_bounds = (0, None)\n",
        "result = linprog(c, A_ub=A_ub, b_ub=b_ub, bounds=[x_bounds, y_bounds], method=\"highs\")\n",
        "if result.success:\n",
        "    print(f\"Optimal number of A to produce: {result.x[0]:.2f}\")\n",
        "    print(f\"Optimal number of B to produce: {result.x[1]:.2f}\")\n",
        "    print(f\"Maximum Profit: {-result.fun:.2f}\")\n",
        "else:\n",
        "    print(\"Optimization failed:\", result.message)\n",
        "\n"
      ]
    },
    {
      "cell_type": "markdown",
      "source": [
        "Question 2"
      ],
      "metadata": {
        "id": "6ewrpQzS0D2R"
      }
    },
    {
      "cell_type": "code",
      "source": [
        "from scipy.optimize import linprog\n",
        "c = [-50, -120]\n",
        "A_ub = [\n",
        "    [1, 1],\n",
        "    [7000, 2000],\n",
        "    [10, 30]\n",
        "]\n",
        "b_ub = [110, 700000, 1200]\n",
        "x_bounds = (0, None)\n",
        "y_bounds = (0, None)\n",
        "result = linprog(c, A_ub=A_ub, b_ub=b_ub, bounds=[x_bounds, y_bounds], method=\"highs\")\n",
        "if result.success:\n",
        "     print(f\"Optimal hectares of wheat to plant: {result.x[0]:.2f}\")\n",
        "     print(f\"Optimal hectares of barley to plant: {result.x[1]:.2f}\")\n",
        "     print(f\"Maximum profit: {-result.fun:.2f}\")\n",
        "else:\n",
        "     print(\"Optimization failed:\", result.message)\n",
        "\n",
        "\n"
      ],
      "metadata": {
        "colab": {
          "base_uri": "https://localhost:8080/"
        },
        "id": "gBXudOkX0EQe",
        "outputId": "d59b584e-8d5b-43ec-c427-15393737f8be"
      },
      "execution_count": 2,
      "outputs": [
        {
          "output_type": "stream",
          "name": "stdout",
          "text": [
            "Optimal hectares of wheat to plant: 97.89\n",
            "Optimal hectares of barley to plant: 7.37\n",
            "Maximum profit: 5778.95\n"
          ]
        }
      ]
    }
  ]
}